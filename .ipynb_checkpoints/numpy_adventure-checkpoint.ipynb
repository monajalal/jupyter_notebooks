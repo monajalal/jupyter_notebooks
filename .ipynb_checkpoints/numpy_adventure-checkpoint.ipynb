{
 "cells": [
  {
   "cell_type": "code",
   "execution_count": 34,
   "metadata": {},
   "outputs": [
    {
     "data": {
      "text/plain": [
       "array([1, 2, 3, 4])"
      ]
     },
     "execution_count": 34,
     "metadata": {},
     "output_type": "execute_result"
    }
   ],
   "source": [
    "import numpy as np\n",
    "import matplotlib.pyplot as plt\n",
    "\n",
    "%matplotlib inline\n",
    "\n",
    "a = np.array([1, 2, 3, 4])\n",
    "a"
   ]
  },
  {
   "cell_type": "code",
   "execution_count": 5,
   "metadata": {},
   "outputs": [
    {
     "data": {
      "text/plain": [
       "dtype('int64')"
      ]
     },
     "execution_count": 5,
     "metadata": {},
     "output_type": "execute_result"
    }
   ],
   "source": [
    "a.dtype"
   ]
  },
  {
   "cell_type": "code",
   "execution_count": 7,
   "metadata": {},
   "outputs": [
    {
     "data": {
      "text/plain": [
       "array([  1.,   4.,   9.,  16.])"
      ]
     },
     "execution_count": 7,
     "metadata": {},
     "output_type": "execute_result"
    }
   ],
   "source": [
    "float_arr = np.array([1, 4, 9, 16], dtype=np.float64)\n",
    "float_arr"
   ]
  },
  {
   "cell_type": "code",
   "execution_count": 8,
   "metadata": {},
   "outputs": [
    {
     "data": {
      "text/plain": [
       "(4, (4,), 1)"
      ]
     },
     "execution_count": 8,
     "metadata": {},
     "output_type": "execute_result"
    }
   ],
   "source": [
    "float_arr.size, float_arr.shape, float_arr.ndim"
   ]
  },
  {
   "cell_type": "code",
   "execution_count": 12,
   "metadata": {},
   "outputs": [
    {
     "data": {
      "text/plain": [
       "(6, (2, 3), 2)"
      ]
     },
     "execution_count": 12,
     "metadata": {},
     "output_type": "execute_result"
    }
   ],
   "source": [
    "two_dim = np.array([[1, 2, 3], [4, 5, 6]], dtype = np.float64)\n",
    "two_dim\n",
    "two_dim.size, two_dim.shape, two_dim.ndim"
   ]
  },
  {
   "cell_type": "code",
   "execution_count": 15,
   "metadata": {},
   "outputs": [
    {
     "data": {
      "text/plain": [
       "array([[ 0.,  0.,  0.,  0.],\n",
       "       [ 0.,  0.,  0.,  0.],\n",
       "       [ 0.,  0.,  0.,  0.],\n",
       "       [ 0.,  0.,  0.,  0.]])"
      ]
     },
     "execution_count": 15,
     "metadata": {},
     "output_type": "execute_result"
    }
   ],
   "source": [
    "np.zeros((4,4), 'd')"
   ]
  },
  {
   "cell_type": "code",
   "execution_count": 16,
   "metadata": {},
   "outputs": [
    {
     "data": {
      "text/plain": [
       "array([[ -2.00000000e+000,  -2.00000000e+000,   5.92878775e-323],\n",
       "       [  0.00000000e+000,   0.00000000e+000,   0.00000000e+000],\n",
       "       [  0.00000000e+000,   0.00000000e+000,   0.00000000e+000]])"
      ]
     },
     "execution_count": 16,
     "metadata": {},
     "output_type": "execute_result"
    }
   ],
   "source": [
    "np.empty((3, 3), 'd')"
   ]
  },
  {
   "cell_type": "code",
   "execution_count": 18,
   "metadata": {},
   "outputs": [
    {
     "data": {
      "text/plain": [
       "array([0, 3, 6, 9])"
      ]
     },
     "execution_count": 18,
     "metadata": {},
     "output_type": "execute_result"
    }
   ],
   "source": [
    "np.arange(0, 12, 3)"
   ]
  },
  {
   "cell_type": "code",
   "execution_count": 19,
   "metadata": {},
   "outputs": [
    {
     "data": {
      "text/plain": [
       "array([  0.,   4.,   8.,  12.])"
      ]
     },
     "execution_count": 19,
     "metadata": {},
     "output_type": "execute_result"
    }
   ],
   "source": [
    "np.linspace(0, 12, 4)"
   ]
  },
  {
   "cell_type": "code",
   "execution_count": 20,
   "metadata": {},
   "outputs": [
    {
     "data": {
      "text/plain": [
       "array([  0.,   3.,   6.,   9.,  12.])"
      ]
     },
     "execution_count": 20,
     "metadata": {},
     "output_type": "execute_result"
    }
   ],
   "source": [
    "np.linspace(0, 12, 5)"
   ]
  },
  {
   "cell_type": "code",
   "execution_count": 21,
   "metadata": {},
   "outputs": [
    {
     "data": {
      "text/plain": [
       "array([  0.,   2.,   4.,   6.,   8.,  10.,  12.])"
      ]
     },
     "execution_count": 21,
     "metadata": {},
     "output_type": "execute_result"
    }
   ],
   "source": [
    "np.linspace(0, 12, 7)"
   ]
  },
  {
   "cell_type": "code",
   "execution_count": 27,
   "metadata": {},
   "outputs": [],
   "source": [
    "first_arr = np.random.standard_normal([4, 3])"
   ]
  },
  {
   "cell_type": "code",
   "execution_count": 28,
   "metadata": {
    "collapsed": true
   },
   "outputs": [],
   "source": [
    "second_arr = np.random.standard_normal([4, 3])"
   ]
  },
  {
   "cell_type": "code",
   "execution_count": 29,
   "metadata": {},
   "outputs": [
    {
     "data": {
      "text/plain": [
       "array([[ 0.70147709, -1.46848419,  1.38179985],\n",
       "       [-1.26422602, -0.88125865,  0.04631896],\n",
       "       [ 0.501663  ,  1.71154334,  0.24491036],\n",
       "       [ 0.10443039,  0.82344891,  0.38447966],\n",
       "       [ 0.15636591,  0.50501738, -0.79214295],\n",
       "       [ 1.41657865, -1.00405055, -0.90147659],\n",
       "       [ 0.6166644 ,  0.07073681, -2.52552296],\n",
       "       [ 0.70978038, -0.61811139, -0.53663174]])"
      ]
     },
     "execution_count": 29,
     "metadata": {},
     "output_type": "execute_result"
    }
   ],
   "source": [
    "np.vstack([first_arr, second_arr])"
   ]
  },
  {
   "cell_type": "code",
   "execution_count": 30,
   "metadata": {},
   "outputs": [
    {
     "data": {
      "text/plain": [
       "array([[ 0.70147709, -1.46848419,  1.38179985,  0.15636591,  0.50501738,\n",
       "        -0.79214295],\n",
       "       [-1.26422602, -0.88125865,  0.04631896,  1.41657865, -1.00405055,\n",
       "        -0.90147659],\n",
       "       [ 0.501663  ,  1.71154334,  0.24491036,  0.6166644 ,  0.07073681,\n",
       "        -2.52552296],\n",
       "       [ 0.10443039,  0.82344891,  0.38447966,  0.70978038, -0.61811139,\n",
       "        -0.53663174]])"
      ]
     },
     "execution_count": 30,
     "metadata": {},
     "output_type": "execute_result"
    }
   ],
   "source": [
    "np.hstack([first_arr, second_arr])"
   ]
  },
  {
   "cell_type": "code",
   "execution_count": 31,
   "metadata": {},
   "outputs": [
    {
     "data": {
      "text/plain": [
       "array([[ 0.70147709, -1.26422602,  0.501663  ,  0.10443039],\n",
       "       [-1.46848419, -0.88125865,  1.71154334,  0.82344891],\n",
       "       [ 1.38179985,  0.04631896,  0.24491036,  0.38447966]])"
      ]
     },
     "execution_count": 31,
     "metadata": {},
     "output_type": "execute_result"
    }
   ],
   "source": [
    "first_arr.transpose()"
   ]
  },
  {
   "cell_type": "code",
   "execution_count": 32,
   "metadata": {
    "collapsed": true
   },
   "outputs": [],
   "source": [
    "np.save('first_arr.npy', first_arr)"
   ]
  },
  {
   "cell_type": "code",
   "execution_count": 33,
   "metadata": {},
   "outputs": [
    {
     "data": {
      "text/plain": [
       "array([[ 0.70147709, -1.46848419,  1.38179985],\n",
       "       [-1.26422602, -0.88125865,  0.04631896],\n",
       "       [ 0.501663  ,  1.71154334,  0.24491036],\n",
       "       [ 0.10443039,  0.82344891,  0.38447966]])"
      ]
     },
     "execution_count": 33,
     "metadata": {},
     "output_type": "execute_result"
    }
   ],
   "source": [
    "loaded_first_arr = np.load('first_arr.npy')\n",
    "loaded_first_arr"
   ]
  },
  {
   "cell_type": "code",
   "execution_count": 37,
   "metadata": {},
   "outputs": [
    {
     "data": {
      "text/plain": [
       "array([  0.        ,   0.20408163,   0.40816327,   0.6122449 ,\n",
       "         0.81632653,   1.02040816,   1.2244898 ,   1.42857143,\n",
       "         1.63265306,   1.83673469,   2.04081633,   2.24489796,\n",
       "         2.44897959,   2.65306122,   2.85714286,   3.06122449,\n",
       "         3.26530612,   3.46938776,   3.67346939,   3.87755102,\n",
       "         4.08163265,   4.28571429,   4.48979592,   4.69387755,\n",
       "         4.89795918,   5.10204082,   5.30612245,   5.51020408,\n",
       "         5.71428571,   5.91836735,   6.12244898,   6.32653061,\n",
       "         6.53061224,   6.73469388,   6.93877551,   7.14285714,\n",
       "         7.34693878,   7.55102041,   7.75510204,   7.95918367,\n",
       "         8.16326531,   8.36734694,   8.57142857,   8.7755102 ,\n",
       "         8.97959184,   9.18367347,   9.3877551 ,   9.59183673,\n",
       "         9.79591837,  10.        ])"
      ]
     },
     "execution_count": 37,
     "metadata": {},
     "output_type": "execute_result"
    }
   ],
   "source": [
    "numbers = np.linspace(0, 10 , 50)\n",
    "numbers"
   ]
  },
  {
   "cell_type": "code",
   "execution_count": 38,
   "metadata": {},
   "outputs": [
    {
     "data": {
      "text/plain": [
       "array([ 0.        ,  0.20266794,  0.39692415,  0.57470604,  0.72863478,\n",
       "        0.85232157,  0.94063279,  0.98990308,  0.99808748,  0.96484631,\n",
       "        0.89155923,  0.78126802,  0.63855032,  0.46932961,  0.2806294 ,\n",
       "        0.08028167, -0.12339814, -0.32195632, -0.50715171, -0.67129779,\n",
       "       -0.80758169, -0.91034694, -0.97532829, -0.99982867, -0.9828312 ,\n",
       "       -0.92504137, -0.82885774, -0.6982724 , -0.53870529, -0.35677924,\n",
       "       -0.16004509,  0.04333173,  0.24491007,  0.43632343,  0.6096272 ,\n",
       "        0.75762842,  0.8741843 ,  0.9544572 ,  0.99511539,  0.99447137,\n",
       "        0.95255185,  0.8710967 ,  0.75348673,  0.60460332,  0.43062587,\n",
       "        0.23877532,  0.0370144 , -0.16628279, -0.36267843, -0.54402111])"
      ]
     },
     "execution_count": 38,
     "metadata": {},
     "output_type": "execute_result"
    }
   ],
   "source": [
    "numbers_sin = np.sin(numbers)\n",
    "numbers_sin"
   ]
  },
  {
   "cell_type": "code",
   "execution_count": 39,
   "metadata": {},
   "outputs": [
    {
     "data": {
      "text/plain": [
       "[<matplotlib.lines.Line2D at 0x10c3bb908>]"
      ]
     },
     "execution_count": 39,
     "metadata": {},
     "output_type": "execute_result"
    },
    {
     "data": {
      "image/png": "[encoded data removed]",
      "text/plain": [
       "<matplotlib.figure.Figure at 0x10901e9e8>"
      ]
     },
     "metadata": {},
     "output_type": "display_data"
    }
   ],
   "source": [
    "plt.plot(numbers, numbers_sin)"
   ]
  },
  {
   "cell_type": "code",
   "execution_count": 41,
   "metadata": {},
   "outputs": [
    {
     "data": {
      "text/plain": [
       "array([ 1.        ,  0.97924752,  0.91785141,  0.81835992,  0.68490244,\n",
       "        0.52301811,  0.33942593,  0.1417459 , -0.0618173 , -0.26281476,\n",
       "       -0.45290412, -0.6241957 , -0.76958007, -0.88302305, -0.9598162 ,\n",
       "       -0.99677222, -0.99235724, -0.94675453, -0.8618568 , -0.74118774,\n",
       "       -0.58975572, -0.41384591, -0.22075945, -0.01851037,  0.18450698,\n",
       "        0.37986637,  0.55945943,  0.71583215,  0.84249428,  0.93418872,\n",
       "        0.98710971,  0.99906074,  0.9695458 ,  0.8997899 ,  0.79268826,\n",
       "        0.65268613,  0.48559429,  0.29834787,  0.09871854, -0.10500809,\n",
       "       -0.30437638, -0.49111153, -0.65746312, -0.79652673, -0.90253053,\n",
       "       -0.97107484, -0.99931473, -0.98607811, -0.93191435, -0.83907153])"
      ]
     },
     "execution_count": 41,
     "metadata": {},
     "output_type": "execute_result"
    }
   ],
   "source": [
    "numbers_cos = np.cos(numbers)\n",
    "numbers_cos"
   ]
  },
  {
   "cell_type": "code",
   "execution_count": 42,
   "metadata": {},
   "outputs": [
    {
     "data": {
      "text/plain": [
       "[<matplotlib.lines.Line2D at 0x10c48f6d8>]"
      ]
     },
     "execution_count": 42,
     "metadata": {},
     "output_type": "execute_result"
    },
    {
     "data": {
      "image/png": "[encoded data removed]",
      "text/plain": [
       "<matplotlib.figure.Figure at 0x10c420518>"
      ]
     },
     "metadata": {},
     "output_type": "display_data"
    }
   ],
   "source": [
    "plt.plot(numbers, numbers_cos)"
   ]
  },
  {
   "cell_type": "code",
   "execution_count": 43,
   "metadata": {},
   "outputs": [
    {
     "data": {
      "text/plain": [
       "[<matplotlib.lines.Line2D at 0x10c4a0ac8>]"
      ]
     },
     "execution_count": 43,
     "metadata": {},
     "output_type": "execute_result"
    },
    {
     "data": {
      "image/png": "[encoded data removed]",
      "text/plain": [
       "<matplotlib.figure.Figure at 0x10c4a08d0>"
      ]
     },
     "metadata": {},
     "output_type": "display_data"
    }
   ],
   "source": [
    "plt.plot(numbers, numbers_cos)\n",
    "plt.plot(numbers, numbers_sin)"
   ]
  },
  {
   "cell_type": "code",
   "execution_count": 45,
   "metadata": {},
   "outputs": [
    {
     "data": {
      "text/plain": [
       "[<matplotlib.lines.Line2D at 0x10c82d828>]"
      ]
     },
     "execution_count": 45,
     "metadata": {},
     "output_type": "execute_result"
    },
    {
     "data": {
      "image/png": "[encoded data removed]",
      "text/plain": [
       "<matplotlib.figure.Figure at 0x10c82d048>"
      ]
     },
     "metadata": {},
     "output_type": "display_data"
    }
   ],
   "source": [
    "plt.plot(numbers, numbers_cos, 'x')\n",
    "plt.plot(numbers, numbers_sin, 'o')"
   ]
  },
  {
   "cell_type": "code",
   "execution_count": 46,
   "metadata": {},
   "outputs": [
    {
     "data": {
      "text/plain": [
       "<matplotlib.legend.Legend at 0x10c9ea860>"
      ]
     },
     "execution_count": 46,
     "metadata": {},
     "output_type": "execute_result"
    },
    {
     "data": {
      "image/png": "[encoded data removed]",
      "text/plain": [
       "<matplotlib.figure.Figure at 0x10c843518>"
      ]
     },
     "metadata": {},
     "output_type": "display_data"
    }
   ],
   "source": [
    "y = numbers_sin * numbers_cos\n",
    "z = numbers_sin ** 2 - numbers_cos\n",
    "\n",
    "plt.plot(numbers, y)\n",
    "plt.plot(numbers, z)\n",
    "\n",
    "plt.legend(['sin(x)*cos(x)', 'sin^2-cos^2'])"
   ]
  },
  {
   "cell_type": "code",
   "execution_count": 47,
   "metadata": {},
   "outputs": [
    {
     "data": {
      "text/plain": [
       "0.94324109280440882"
      ]
     },
     "execution_count": 47,
     "metadata": {},
     "output_type": "execute_result"
    }
   ],
   "source": [
    "np.dot(numbers_sin, numbers_cos)"
   ]
  },
  {
   "cell_type": "code",
   "execution_count": 62,
   "metadata": {},
   "outputs": [
    {
     "data": {
      "text/plain": [
       "array([  1. ,   3.5,   6. ,   8.5,  11. ])"
      ]
     },
     "execution_count": 62,
     "metadata": {},
     "output_type": "execute_result"
    }
   ],
   "source": [
    "vec = np.linspace(0, 10, 5)\n",
    "vec + 1"
   ]
  },
  {
   "cell_type": "code",
   "execution_count": 57,
   "metadata": {},
   "outputs": [
    {
     "data": {
      "text/plain": [
       "array([[ 1.4588466 , -0.04169626, -0.69096225,  1.14333098],\n",
       "       [-2.23122743, -1.28538637, -0.44736419, -0.48218708],\n",
       "       [ 0.20214471, -0.44369312,  0.90729797, -1.89702003]])"
      ]
     },
     "execution_count": 57,
     "metadata": {},
     "output_type": "execute_result"
    }
   ],
   "source": [
    "vv = np.random.standard_normal((3, 4))\n",
    "vv"
   ]
  },
  {
   "cell_type": "code",
   "execution_count": 58,
   "metadata": {},
   "outputs": [
    {
     "data": {
      "text/plain": [
       "1.4588466015756687"
      ]
     },
     "execution_count": 58,
     "metadata": {},
     "output_type": "execute_result"
    }
   ],
   "source": [
    "vv[0 , 0]"
   ]
  },
  {
   "cell_type": "code",
   "execution_count": 59,
   "metadata": {},
   "outputs": [
    {
     "data": {
      "text/plain": [
       "array([-0.44736419,  0.90729797])"
      ]
     },
     "execution_count": 59,
     "metadata": {},
     "output_type": "execute_result"
    }
   ],
   "source": [
    "vv[1:3, 2]"
   ]
  },
  {
   "cell_type": "code",
   "execution_count": 60,
   "metadata": {},
   "outputs": [
    {
     "data": {
      "text/plain": [
       "array([[-1.28538637],\n",
       "       [-0.44369312]])"
      ]
     },
     "execution_count": 60,
     "metadata": {},
     "output_type": "execute_result"
    }
   ],
   "source": [
    "vv[1:3, 1:2] #get back to this!!"
   ]
  },
  {
   "cell_type": "code",
   "execution_count": 61,
   "metadata": {},
   "outputs": [
    {
     "data": {
      "text/plain": [
       "array([  5. ,   7.5,  10. ])"
      ]
     },
     "execution_count": 61,
     "metadata": {},
     "output_type": "execute_result"
    }
   ],
   "source": [
    "bool_index = vec > 4\n",
    "vec[bool_index]"
   ]
  },
  {
   "cell_type": "code",
   "execution_count": 63,
   "metadata": {},
   "outputs": [
    {
     "data": {
      "text/plain": [
       "array([ 1.4588466 ,  1.14333098,  0.90729797])"
      ]
     },
     "execution_count": 63,
     "metadata": {},
     "output_type": "execute_result"
    }
   ],
   "source": [
    "vv[vv > 0.5]"
   ]
  },
  {
   "cell_type": "code",
   "execution_count": 64,
   "metadata": {
    "collapsed": true
   },
   "outputs": [],
   "source": [
    "import pandas as pd"
   ]
  },
  {
   "cell_type": "code",
   "execution_count": 66,
   "metadata": {},
   "outputs": [],
   "source": [
    "s = pd.Series([1, 4, 9, 16, 25], name='squares')"
   ]
  },
  {
   "cell_type": "code",
   "execution_count": 67,
   "metadata": {},
   "outputs": [
    {
     "data": {
      "text/plain": [
       "0     1\n",
       "1     4\n",
       "2     9\n",
       "3    16\n",
       "4    25\n",
       "Name: squares, dtype: int64"
      ]
     },
     "execution_count": 67,
     "metadata": {},
     "output_type": "execute_result"
    }
   ],
   "source": [
    "s"
   ]
  },
  {
   "cell_type": "code",
   "execution_count": 69,
   "metadata": {},
   "outputs": [
    {
     "data": {
      "text/plain": [
       "array([ 1,  4,  9, 16, 25])"
      ]
     },
     "execution_count": 69,
     "metadata": {},
     "output_type": "execute_result"
    }
   ],
   "source": [
    "s.values"
   ]
  },
  {
   "cell_type": "code",
   "execution_count": 70,
   "metadata": {},
   "outputs": [
    {
     "data": {
      "text/plain": [
       "RangeIndex(start=0, stop=5, step=1)"
      ]
     },
     "execution_count": 70,
     "metadata": {},
     "output_type": "execute_result"
    }
   ],
   "source": [
    "s.index"
   ]
  },
  {
   "cell_type": "code",
   "execution_count": 71,
   "metadata": {},
   "outputs": [
    {
     "data": {
      "text/plain": [
       "16"
      ]
     },
     "execution_count": 71,
     "metadata": {},
     "output_type": "execute_result"
    }
   ],
   "source": [
    "s[3]"
   ]
  },
  {
   "cell_type": "code",
   "execution_count": 72,
   "metadata": {},
   "outputs": [
    {
     "data": {
      "text/plain": [
       "1    4\n",
       "2    9\n",
       "Name: squares, dtype: int64"
      ]
     },
     "execution_count": 72,
     "metadata": {},
     "output_type": "execute_result"
    }
   ],
   "source": [
    "s[1:3]"
   ]
  },
  {
   "cell_type": "code",
   "execution_count": 73,
   "metadata": {
    "collapsed": true
   },
   "outputs": [],
   "source": [
    "popular_languages = pd.Series([100, 99, 80, 40 , 30, 2], index=['Python', 'C++', 'GO', 'Java', 'C', 'Perl'])"
   ]
  },
  {
   "cell_type": "code",
   "execution_count": 74,
   "metadata": {},
   "outputs": [
    {
     "data": {
      "text/plain": [
       "Python    100\n",
       "C++        99\n",
       "GO         80\n",
       "Java       40\n",
       "C          30\n",
       "Perl        2\n",
       "dtype: int64"
      ]
     },
     "execution_count": 74,
     "metadata": {},
     "output_type": "execute_result"
    }
   ],
   "source": [
    "popular_languages"
   ]
  },
  {
   "cell_type": "code",
   "execution_count": 75,
   "metadata": {},
   "outputs": [
    {
     "data": {
      "text/plain": [
       "Index(['Python', 'C++', 'GO', 'Java', 'C', 'Perl'], dtype='object')"
      ]
     },
     "execution_count": 75,
     "metadata": {},
     "output_type": "execute_result"
    }
   ],
   "source": [
    "popular_languages.index"
   ]
  },
  {
   "cell_type": "code",
   "execution_count": 77,
   "metadata": {},
   "outputs": [
    {
     "data": {
      "text/plain": [
       "GO      80\n",
       "Java    40\n",
       "C       30\n",
       "dtype: int64"
      ]
     },
     "execution_count": 77,
     "metadata": {},
     "output_type": "execute_result"
    }
   ],
   "source": [
    "popular_languages[2:5]"
   ]
  },
  {
   "cell_type": "code",
   "execution_count": 78,
   "metadata": {},
   "outputs": [
    {
     "data": {
      "text/plain": [
       "40"
      ]
     },
     "execution_count": 78,
     "metadata": {},
     "output_type": "execute_result"
    }
   ],
   "source": [
    "popular_languages['Java']"
   ]
  },
  {
   "cell_type": "code",
   "execution_count": 80,
   "metadata": {},
   "outputs": [
    {
     "data": {
      "text/plain": [
       "GO      80\n",
       "Java    40\n",
       "C       30\n",
       "Perl     2\n",
       "dtype: int64"
      ]
     },
     "execution_count": 80,
     "metadata": {},
     "output_type": "execute_result"
    }
   ],
   "source": [
    "popular_languages['GO':'Perl']"
   ]
  },
  {
   "cell_type": "code",
   "execution_count": 127,
   "metadata": {},
   "outputs": [
    {
     "data": {
      "text/plain": [
       "Series([], dtype: int64)"
      ]
     },
     "execution_count": 127,
     "metadata": {},
     "output_type": "execute_result"
    }
   ],
   "source": [
    "popular_languages['GO':'Python']"
   ]
  },
  {
   "cell_type": "code",
   "execution_count": 129,
   "metadata": {},
   "outputs": [
    {
     "data": {
      "text/plain": [
       "GO         80\n",
       "C++        99\n",
       "Python    100\n",
       "dtype: int64"
      ]
     },
     "execution_count": 129,
     "metadata": {},
     "output_type": "execute_result"
    }
   ],
   "source": [
    "popular_languages['GO':'Python': -1]"
   ]
  },
  {
   "cell_type": "code",
   "execution_count": 82,
   "metadata": {
    "collapsed": true
   },
   "outputs": [],
   "source": [
    "list_of_countries = pd.read_html('https://en.wikipedia.org/wiki/List_of_countries_by_alcohol_consumption_per_capita')"
   ]
  },
  {
   "cell_type": "code",
   "execution_count": 83,
   "metadata": {},
   "outputs": [
    {
     "data": {
      "text/html": [
       "<div>\n",
       "<style>\n",
       "    .dataframe thead tr:only-child th {\n",
       "        text-align: right;\n",
       "    }\n",
       "\n",
       "    .dataframe thead th {\n",
       "        text-align: left;\n",
       "    }\n",
       "\n",
       "    .dataframe tbody tr th {\n",
       "        vertical-align: top;\n",
       "    }\n",
       "</style>\n",
       "<table border=\"1\" class=\"dataframe\">\n",
       "  <thead>\n",
       "    <tr style=\"text-align: right;\">\n",
       "      <th></th>\n",
       "      <th>0</th>\n",
       "      <th>1</th>\n",
       "      <th>2</th>\n",
       "      <th>3</th>\n",
       "      <th>4</th>\n",
       "      <th>5</th>\n",
       "      <th>6</th>\n",
       "      <th>7</th>\n",
       "      <th>8</th>\n",
       "      <th>9</th>\n",
       "    </tr>\n",
       "  </thead>\n",
       "  <tbody>\n",
       "    <tr>\n",
       "      <th>0</th>\n",
       "      <td>Rank</td>\n",
       "      <td>Country</td>\n",
       "      <td>Total</td>\n",
       "      <td>Recorded consumption</td>\n",
       "      <td>Unrecorded consumption</td>\n",
       "      <td>Beer (%)</td>\n",
       "      <td>Wine (%)</td>\n",
       "      <td>Spirits (%)</td>\n",
       "      <td>Other (%)</td>\n",
       "      <td>2015 projection</td>\n",
       "    </tr>\n",
       "    <tr>\n",
       "      <th>1</th>\n",
       "      <td>1</td>\n",
       "      <td>Belarus</td>\n",
       "      <td>17.5</td>\n",
       "      <td>14.4</td>\n",
       "      <td>3.2</td>\n",
       "      <td>17.3</td>\n",
       "      <td>5.2</td>\n",
       "      <td>46.6</td>\n",
       "      <td>30.9</td>\n",
       "      <td>17.1</td>\n",
       "    </tr>\n",
       "    <tr>\n",
       "      <th>2</th>\n",
       "      <td>2</td>\n",
       "      <td>Moldova</td>\n",
       "      <td>16.8</td>\n",
       "      <td>6.3</td>\n",
       "      <td>10.5</td>\n",
       "      <td>30.4</td>\n",
       "      <td>5.1</td>\n",
       "      <td>64.5</td>\n",
       "      <td>0</td>\n",
       "      <td>17.4</td>\n",
       "    </tr>\n",
       "    <tr>\n",
       "      <th>3</th>\n",
       "      <td>3</td>\n",
       "      <td>Lithuania</td>\n",
       "      <td>15.4</td>\n",
       "      <td>12.9</td>\n",
       "      <td>2.5</td>\n",
       "      <td>46.5</td>\n",
       "      <td>7.8</td>\n",
       "      <td>34.1</td>\n",
       "      <td>11.6</td>\n",
       "      <td>16.2</td>\n",
       "    </tr>\n",
       "    <tr>\n",
       "      <th>4</th>\n",
       "      <td>4</td>\n",
       "      <td>Russia</td>\n",
       "      <td>15.1</td>\n",
       "      <td>11.5</td>\n",
       "      <td>3.6</td>\n",
       "      <td>37.6</td>\n",
       "      <td>11.4</td>\n",
       "      <td>51</td>\n",
       "      <td>0</td>\n",
       "      <td>14.5</td>\n",
       "    </tr>\n",
       "    <tr>\n",
       "      <th>5</th>\n",
       "      <td>5</td>\n",
       "      <td>Romania</td>\n",
       "      <td>14.4</td>\n",
       "      <td>10.4</td>\n",
       "      <td>4</td>\n",
       "      <td>50</td>\n",
       "      <td>28.9</td>\n",
       "      <td>21.1</td>\n",
       "      <td>0</td>\n",
       "      <td>12.9</td>\n",
       "    </tr>\n",
       "    <tr>\n",
       "      <th>6</th>\n",
       "      <td>6</td>\n",
       "      <td>Ukraine</td>\n",
       "      <td>13.9</td>\n",
       "      <td>8.9</td>\n",
       "      <td>5</td>\n",
       "      <td>40.5</td>\n",
       "      <td>9</td>\n",
       "      <td>48</td>\n",
       "      <td>2.6</td>\n",
       "      <td>11.8</td>\n",
       "    </tr>\n",
       "    <tr>\n",
       "      <th>7</th>\n",
       "      <td>7</td>\n",
       "      <td>Andorra</td>\n",
       "      <td>13.8</td>\n",
       "      <td>12.4</td>\n",
       "      <td>1.4</td>\n",
       "      <td>34.6</td>\n",
       "      <td>45.3</td>\n",
       "      <td>20.1</td>\n",
       "      <td>0</td>\n",
       "      <td>9.1</td>\n",
       "    </tr>\n",
       "    <tr>\n",
       "      <th>8</th>\n",
       "      <td>8</td>\n",
       "      <td>Hungary</td>\n",
       "      <td>13.3</td>\n",
       "      <td>11.3</td>\n",
       "      <td>2</td>\n",
       "      <td>36.3</td>\n",
       "      <td>29.4</td>\n",
       "      <td>34.3</td>\n",
       "      <td>0</td>\n",
       "      <td>12.4</td>\n",
       "    </tr>\n",
       "    <tr>\n",
       "      <th>9</th>\n",
       "      <td>9</td>\n",
       "      <td>Czech Republic</td>\n",
       "      <td>13</td>\n",
       "      <td>11.8</td>\n",
       "      <td>1.2</td>\n",
       "      <td>53.5</td>\n",
       "      <td>20.5</td>\n",
       "      <td>26</td>\n",
       "      <td>0</td>\n",
       "      <td>14.1</td>\n",
       "    </tr>\n",
       "    <tr>\n",
       "      <th>10</th>\n",
       "      <td>10</td>\n",
       "      <td>Slovakia</td>\n",
       "      <td>13</td>\n",
       "      <td>11.4</td>\n",
       "      <td>1.7</td>\n",
       "      <td>30.1</td>\n",
       "      <td>18.3</td>\n",
       "      <td>46.2</td>\n",
       "      <td>5.5</td>\n",
       "      <td>12.5</td>\n",
       "    </tr>\n",
       "    <tr>\n",
       "      <th>11</th>\n",
       "      <td>11</td>\n",
       "      <td>Portugal</td>\n",
       "      <td>12.9</td>\n",
       "      <td>11</td>\n",
       "      <td>1.9</td>\n",
       "      <td>30.8</td>\n",
       "      <td>55.5</td>\n",
       "      <td>10.9</td>\n",
       "      <td>2.8</td>\n",
       "      <td>12.5</td>\n",
       "    </tr>\n",
       "    <tr>\n",
       "      <th>12</th>\n",
       "      <td>12</td>\n",
       "      <td>Serbia</td>\n",
       "      <td>12.6</td>\n",
       "      <td>9.6</td>\n",
       "      <td>2.9</td>\n",
       "      <td>51.5</td>\n",
       "      <td>23.9</td>\n",
       "      <td>24.6</td>\n",
       "      <td>0</td>\n",
       "      <td>12.9</td>\n",
       "    </tr>\n",
       "    <tr>\n",
       "      <th>13</th>\n",
       "      <td>13</td>\n",
       "      <td>Grenada</td>\n",
       "      <td>12.5</td>\n",
       "      <td>11.9</td>\n",
       "      <td>0.7</td>\n",
       "      <td>29.3</td>\n",
       "      <td>4.3</td>\n",
       "      <td>66.2</td>\n",
       "      <td>0.2</td>\n",
       "      <td>10.4</td>\n",
       "    </tr>\n",
       "    <tr>\n",
       "      <th>14</th>\n",
       "      <td>14</td>\n",
       "      <td>Poland</td>\n",
       "      <td>12.5</td>\n",
       "      <td>10.9</td>\n",
       "      <td>1.6</td>\n",
       "      <td>55.1</td>\n",
       "      <td>9.3</td>\n",
       "      <td>35.5</td>\n",
       "      <td>0</td>\n",
       "      <td>11.5</td>\n",
       "    </tr>\n",
       "    <tr>\n",
       "      <th>15</th>\n",
       "      <td>15</td>\n",
       "      <td>Latvia</td>\n",
       "      <td>12.3</td>\n",
       "      <td>10.5</td>\n",
       "      <td>1.8</td>\n",
       "      <td>46.9</td>\n",
       "      <td>10.7</td>\n",
       "      <td>37</td>\n",
       "      <td>5.4</td>\n",
       "      <td>10.6</td>\n",
       "    </tr>\n",
       "    <tr>\n",
       "      <th>16</th>\n",
       "      <td>16</td>\n",
       "      <td>Finland</td>\n",
       "      <td>12.3</td>\n",
       "      <td>10</td>\n",
       "      <td>2.3</td>\n",
       "      <td>46</td>\n",
       "      <td>17.5</td>\n",
       "      <td>24</td>\n",
       "      <td>12.6</td>\n",
       "      <td>11.9</td>\n",
       "    </tr>\n",
       "    <tr>\n",
       "      <th>17</th>\n",
       "      <td>17</td>\n",
       "      <td>South Korea</td>\n",
       "      <td>12.3</td>\n",
       "      <td>9.8</td>\n",
       "      <td>2.5</td>\n",
       "      <td>25</td>\n",
       "      <td>1.6</td>\n",
       "      <td>2.9</td>\n",
       "      <td>70.5</td>\n",
       "      <td>10.9</td>\n",
       "    </tr>\n",
       "    <tr>\n",
       "      <th>18</th>\n",
       "      <td>18</td>\n",
       "      <td>France</td>\n",
       "      <td>12.2</td>\n",
       "      <td>11.8</td>\n",
       "      <td>0.4</td>\n",
       "      <td>18.8</td>\n",
       "      <td>56.4</td>\n",
       "      <td>23.1</td>\n",
       "      <td>1.7</td>\n",
       "      <td>11.6</td>\n",
       "    </tr>\n",
       "    <tr>\n",
       "      <th>19</th>\n",
       "      <td>19</td>\n",
       "      <td>Australia</td>\n",
       "      <td>12.2</td>\n",
       "      <td>10.4</td>\n",
       "      <td>1.8</td>\n",
       "      <td>44</td>\n",
       "      <td>36.7</td>\n",
       "      <td>12.5</td>\n",
       "      <td>6.8</td>\n",
       "      <td>12.6</td>\n",
       "    </tr>\n",
       "    <tr>\n",
       "      <th>20</th>\n",
       "      <td>20</td>\n",
       "      <td>Croatia</td>\n",
       "      <td>12.2</td>\n",
       "      <td>10.2</td>\n",
       "      <td>2</td>\n",
       "      <td>39.5</td>\n",
       "      <td>44.8</td>\n",
       "      <td>15.4</td>\n",
       "      <td>0.2</td>\n",
       "      <td>11.7</td>\n",
       "    </tr>\n",
       "    <tr>\n",
       "      <th>21</th>\n",
       "      <td>21</td>\n",
       "      <td>Ireland</td>\n",
       "      <td>11.9</td>\n",
       "      <td>11.4</td>\n",
       "      <td>0.5</td>\n",
       "      <td>48.1</td>\n",
       "      <td>26.1</td>\n",
       "      <td>18.7</td>\n",
       "      <td>7.7</td>\n",
       "      <td>10.9</td>\n",
       "    </tr>\n",
       "    <tr>\n",
       "      <th>22</th>\n",
       "      <td>22</td>\n",
       "      <td>Luxembourg</td>\n",
       "      <td>11.9</td>\n",
       "      <td>11.4</td>\n",
       "      <td>0.5</td>\n",
       "      <td>36.2</td>\n",
       "      <td>42.8</td>\n",
       "      <td>21</td>\n",
       "      <td>0</td>\n",
       "      <td>11.2</td>\n",
       "    </tr>\n",
       "    <tr>\n",
       "      <th>23</th>\n",
       "      <td>23</td>\n",
       "      <td>Germany</td>\n",
       "      <td>11.8</td>\n",
       "      <td>11.3</td>\n",
       "      <td>0.5</td>\n",
       "      <td>53.6</td>\n",
       "      <td>27.8</td>\n",
       "      <td>18.6</td>\n",
       "      <td>0</td>\n",
       "      <td>10.6</td>\n",
       "    </tr>\n",
       "    <tr>\n",
       "      <th>24</th>\n",
       "      <td>24</td>\n",
       "      <td>Slovenia</td>\n",
       "      <td>11.6</td>\n",
       "      <td>10.6</td>\n",
       "      <td>1</td>\n",
       "      <td>44.5</td>\n",
       "      <td>46.9</td>\n",
       "      <td>8.6</td>\n",
       "      <td>0</td>\n",
       "      <td>10.9</td>\n",
       "    </tr>\n",
       "    <tr>\n",
       "      <th>25</th>\n",
       "      <td>25</td>\n",
       "      <td>United Kingdom</td>\n",
       "      <td>11.6</td>\n",
       "      <td>10.4</td>\n",
       "      <td>1.2</td>\n",
       "      <td>36.9</td>\n",
       "      <td>33.8</td>\n",
       "      <td>21.8</td>\n",
       "      <td>7.5</td>\n",
       "      <td>12</td>\n",
       "    </tr>\n",
       "    <tr>\n",
       "      <th>26</th>\n",
       "      <td>26</td>\n",
       "      <td>Denmark</td>\n",
       "      <td>11.4</td>\n",
       "      <td>10.4</td>\n",
       "      <td>1</td>\n",
       "      <td>37.7</td>\n",
       "      <td>48.2</td>\n",
       "      <td>14.1</td>\n",
       "      <td>0</td>\n",
       "      <td>10.2</td>\n",
       "    </tr>\n",
       "    <tr>\n",
       "      <th>27</th>\n",
       "      <td>27</td>\n",
       "      <td>Bulgaria</td>\n",
       "      <td>11.4</td>\n",
       "      <td>10.3</td>\n",
       "      <td>1.1</td>\n",
       "      <td>39.3</td>\n",
       "      <td>16.5</td>\n",
       "      <td>44.1</td>\n",
       "      <td>0.1</td>\n",
       "      <td>11.3</td>\n",
       "    </tr>\n",
       "    <tr>\n",
       "      <th>28</th>\n",
       "      <td>28</td>\n",
       "      <td>Spain</td>\n",
       "      <td>11.2</td>\n",
       "      <td>10</td>\n",
       "      <td>1.2</td>\n",
       "      <td>49.7</td>\n",
       "      <td>20.1</td>\n",
       "      <td>28.2</td>\n",
       "      <td>1.8</td>\n",
       "      <td>10.6</td>\n",
       "    </tr>\n",
       "    <tr>\n",
       "      <th>29</th>\n",
       "      <td>29</td>\n",
       "      <td>Belgium</td>\n",
       "      <td>11</td>\n",
       "      <td>10.5</td>\n",
       "      <td>0.5</td>\n",
       "      <td>49.2</td>\n",
       "      <td>36.3</td>\n",
       "      <td>14.4</td>\n",
       "      <td>0.1</td>\n",
       "      <td>10.8</td>\n",
       "    </tr>\n",
       "    <tr>\n",
       "      <th>...</th>\n",
       "      <td>...</td>\n",
       "      <td>...</td>\n",
       "      <td>...</td>\n",
       "      <td>...</td>\n",
       "      <td>...</td>\n",
       "      <td>...</td>\n",
       "      <td>...</td>\n",
       "      <td>...</td>\n",
       "      <td>...</td>\n",
       "      <td>...</td>\n",
       "    </tr>\n",
       "    <tr>\n",
       "      <th>162</th>\n",
       "      <td>162</td>\n",
       "      <td>Malaysia</td>\n",
       "      <td>1.3</td>\n",
       "      <td>0.3</td>\n",
       "      <td>1</td>\n",
       "      <td>76.2</td>\n",
       "      <td>2</td>\n",
       "      <td>21.8</td>\n",
       "      <td>0.1</td>\n",
       "      <td>1.7</td>\n",
       "    </tr>\n",
       "    <tr>\n",
       "      <th>163</th>\n",
       "      <td>163</td>\n",
       "      <td>Syria</td>\n",
       "      <td>1.2</td>\n",
       "      <td>1</td>\n",
       "      <td>0.3</td>\n",
       "      <td>8.5</td>\n",
       "      <td>27.9</td>\n",
       "      <td>63.5</td>\n",
       "      <td>0</td>\n",
       "      <td>1.4</td>\n",
       "    </tr>\n",
       "    <tr>\n",
       "      <th>164</th>\n",
       "      <td>164</td>\n",
       "      <td>Maldives</td>\n",
       "      <td>1.2</td>\n",
       "      <td>0.7</td>\n",
       "      <td>0.5</td>\n",
       "      <td>29.1</td>\n",
       "      <td>29.4</td>\n",
       "      <td>41.2</td>\n",
       "      <td>0</td>\n",
       "      <td>1</td>\n",
       "    </tr>\n",
       "    <tr>\n",
       "      <th>165</th>\n",
       "      <td>165</td>\n",
       "      <td>Mali</td>\n",
       "      <td>1.1</td>\n",
       "      <td>0.6</td>\n",
       "      <td>0.5</td>\n",
       "      <td>13.3</td>\n",
       "      <td>1.5</td>\n",
       "      <td>2.1</td>\n",
       "      <td>83.1</td>\n",
       "      <td>1</td>\n",
       "    </tr>\n",
       "    <tr>\n",
       "      <th>166</th>\n",
       "      <td>166</td>\n",
       "      <td>Eritrea</td>\n",
       "      <td>1.1</td>\n",
       "      <td>0.5</td>\n",
       "      <td>0.6</td>\n",
       "      <td>63.6</td>\n",
       "      <td>0</td>\n",
       "      <td>0.1</td>\n",
       "      <td>36.3</td>\n",
       "      <td>1.4</td>\n",
       "    </tr>\n",
       "    <tr>\n",
       "      <th>167</th>\n",
       "      <td>167</td>\n",
       "      <td>Algeria</td>\n",
       "      <td>1</td>\n",
       "      <td>0.7</td>\n",
       "      <td>0.3</td>\n",
       "      <td>62.6</td>\n",
       "      <td>35.5</td>\n",
       "      <td>0</td>\n",
       "      <td>2</td>\n",
       "      <td>0.6</td>\n",
       "    </tr>\n",
       "    <tr>\n",
       "      <th>168</th>\n",
       "      <td>168</td>\n",
       "      <td>Iran</td>\n",
       "      <td>1</td>\n",
       "      <td>0</td>\n",
       "      <td>1</td>\n",
       "      <td>24.8</td>\n",
       "      <td>52.1</td>\n",
       "      <td>1</td>\n",
       "      <td>1</td>\n",
       "      <td>NaN</td>\n",
       "    </tr>\n",
       "    <tr>\n",
       "      <th>169</th>\n",
       "      <td>169</td>\n",
       "      <td>Oman</td>\n",
       "      <td>0.9</td>\n",
       "      <td>0.7</td>\n",
       "      <td>0.2</td>\n",
       "      <td>54.6</td>\n",
       "      <td>3.3</td>\n",
       "      <td>42.2</td>\n",
       "      <td>0</td>\n",
       "      <td>0.9</td>\n",
       "    </tr>\n",
       "    <tr>\n",
       "      <th>170</th>\n",
       "      <td>170</td>\n",
       "      <td>Brunei</td>\n",
       "      <td>0.9</td>\n",
       "      <td>0.6</td>\n",
       "      <td>0.3</td>\n",
       "      <td>89.8</td>\n",
       "      <td>2.3</td>\n",
       "      <td>7.2</td>\n",
       "      <td>0.7</td>\n",
       "      <td>0.8</td>\n",
       "    </tr>\n",
       "    <tr>\n",
       "      <th>171</th>\n",
       "      <td>171</td>\n",
       "      <td>Morocco</td>\n",
       "      <td>0.9</td>\n",
       "      <td>0.5</td>\n",
       "      <td>0.5</td>\n",
       "      <td>43.5</td>\n",
       "      <td>36.5</td>\n",
       "      <td>19.9</td>\n",
       "      <td>0</td>\n",
       "      <td>0.7</td>\n",
       "    </tr>\n",
       "    <tr>\n",
       "      <th>172</th>\n",
       "      <td>172</td>\n",
       "      <td>Jordan</td>\n",
       "      <td>0.7</td>\n",
       "      <td>0.5</td>\n",
       "      <td>0.2</td>\n",
       "      <td>22.4</td>\n",
       "      <td>2.1</td>\n",
       "      <td>75.4</td>\n",
       "      <td>0.1</td>\n",
       "      <td>0.7</td>\n",
       "    </tr>\n",
       "    <tr>\n",
       "      <th>173</th>\n",
       "      <td>173</td>\n",
       "      <td>Bhutan</td>\n",
       "      <td>0.7</td>\n",
       "      <td>0.4</td>\n",
       "      <td>0.3</td>\n",
       "      <td>100</td>\n",
       "      <td>0</td>\n",
       "      <td>0</td>\n",
       "      <td>0</td>\n",
       "      <td>1.1</td>\n",
       "    </tr>\n",
       "    <tr>\n",
       "      <th>174</th>\n",
       "      <td>174</td>\n",
       "      <td>Guinea</td>\n",
       "      <td>0.7</td>\n",
       "      <td>0.2</td>\n",
       "      <td>0.5</td>\n",
       "      <td>78.9</td>\n",
       "      <td>16.3</td>\n",
       "      <td>3.7</td>\n",
       "      <td>1.1</td>\n",
       "      <td>0.7</td>\n",
       "    </tr>\n",
       "    <tr>\n",
       "      <th>175</th>\n",
       "      <td>175</td>\n",
       "      <td>Myanmar</td>\n",
       "      <td>0.7</td>\n",
       "      <td>0.1</td>\n",
       "      <td>0.6</td>\n",
       "      <td>82.6</td>\n",
       "      <td>5.7</td>\n",
       "      <td>11.8</td>\n",
       "      <td>0</td>\n",
       "      <td>0.7</td>\n",
       "    </tr>\n",
       "    <tr>\n",
       "      <th>176</th>\n",
       "      <td>176</td>\n",
       "      <td>Afghanistan</td>\n",
       "      <td>0.7</td>\n",
       "      <td>0</td>\n",
       "      <td>0.7</td>\n",
       "      <td>18.9</td>\n",
       "      <td>38.3</td>\n",
       "      <td>1</td>\n",
       "      <td>1.2</td>\n",
       "      <td>NaN</td>\n",
       "    </tr>\n",
       "    <tr>\n",
       "      <th>177</th>\n",
       "      <td>177</td>\n",
       "      <td>Senegal</td>\n",
       "      <td>0.6</td>\n",
       "      <td>0.3</td>\n",
       "      <td>0.3</td>\n",
       "      <td>55.1</td>\n",
       "      <td>41.3</td>\n",
       "      <td>3.6</td>\n",
       "      <td>0</td>\n",
       "      <td>0.5</td>\n",
       "    </tr>\n",
       "    <tr>\n",
       "      <th>178</th>\n",
       "      <td>178</td>\n",
       "      <td>Indonesia</td>\n",
       "      <td>0.6</td>\n",
       "      <td>0.1</td>\n",
       "      <td>0.5</td>\n",
       "      <td>84.5</td>\n",
       "      <td>0.1</td>\n",
       "      <td>15.3</td>\n",
       "      <td>0</td>\n",
       "      <td>0.6</td>\n",
       "    </tr>\n",
       "    <tr>\n",
       "      <th>179</th>\n",
       "      <td>179</td>\n",
       "      <td>Timor-Leste</td>\n",
       "      <td>0.6</td>\n",
       "      <td>0.1</td>\n",
       "      <td>0.5</td>\n",
       "      <td>9.3</td>\n",
       "      <td>75.9</td>\n",
       "      <td>14.8</td>\n",
       "      <td>0</td>\n",
       "      <td>1.2</td>\n",
       "    </tr>\n",
       "    <tr>\n",
       "      <th>180</th>\n",
       "      <td>180</td>\n",
       "      <td>Iraq</td>\n",
       "      <td>0.5</td>\n",
       "      <td>0.2</td>\n",
       "      <td>0.3</td>\n",
       "      <td>76.1</td>\n",
       "      <td>1</td>\n",
       "      <td>22.9</td>\n",
       "      <td>0</td>\n",
       "      <td>0.5</td>\n",
       "    </tr>\n",
       "    <tr>\n",
       "      <th>181</th>\n",
       "      <td>181</td>\n",
       "      <td>Somalia</td>\n",
       "      <td>0.5</td>\n",
       "      <td>0</td>\n",
       "      <td>0.5</td>\n",
       "      <td>9.2</td>\n",
       "      <td>19.2</td>\n",
       "      <td>0.5</td>\n",
       "      <td>0.5</td>\n",
       "      <td>NaN</td>\n",
       "    </tr>\n",
       "    <tr>\n",
       "      <th>182</th>\n",
       "      <td>182</td>\n",
       "      <td>Egypt</td>\n",
       "      <td>0.4</td>\n",
       "      <td>0.2</td>\n",
       "      <td>0.2</td>\n",
       "      <td>53.8</td>\n",
       "      <td>5.4</td>\n",
       "      <td>40.3</td>\n",
       "      <td>0.5</td>\n",
       "      <td>0.3</td>\n",
       "    </tr>\n",
       "    <tr>\n",
       "      <th>183</th>\n",
       "      <td>183</td>\n",
       "      <td>Niger</td>\n",
       "      <td>0.3</td>\n",
       "      <td>0.1</td>\n",
       "      <td>0.2</td>\n",
       "      <td>46</td>\n",
       "      <td>13.2</td>\n",
       "      <td>40.7</td>\n",
       "      <td>0</td>\n",
       "      <td>0.3</td>\n",
       "    </tr>\n",
       "    <tr>\n",
       "      <th>184</th>\n",
       "      <td>184</td>\n",
       "      <td>Yemen</td>\n",
       "      <td>0.3</td>\n",
       "      <td>0.1</td>\n",
       "      <td>0.2</td>\n",
       "      <td>100</td>\n",
       "      <td>0</td>\n",
       "      <td>0</td>\n",
       "      <td>0</td>\n",
       "      <td>0.2</td>\n",
       "    </tr>\n",
       "    <tr>\n",
       "      <th>185</th>\n",
       "      <td>185</td>\n",
       "      <td>Comoros</td>\n",
       "      <td>0.2</td>\n",
       "      <td>0.1</td>\n",
       "      <td>0.1</td>\n",
       "      <td>23.3</td>\n",
       "      <td>22.2</td>\n",
       "      <td>54.6</td>\n",
       "      <td>0</td>\n",
       "      <td>0.2</td>\n",
       "    </tr>\n",
       "    <tr>\n",
       "      <th>186</th>\n",
       "      <td>186</td>\n",
       "      <td>Saudi Arabia</td>\n",
       "      <td>0.2</td>\n",
       "      <td>0.1</td>\n",
       "      <td>0.1</td>\n",
       "      <td>0</td>\n",
       "      <td>1.9</td>\n",
       "      <td>97.9</td>\n",
       "      <td>0.2</td>\n",
       "      <td>0.2</td>\n",
       "    </tr>\n",
       "    <tr>\n",
       "      <th>187</th>\n",
       "      <td>187</td>\n",
       "      <td>Bangladesh</td>\n",
       "      <td>0.2</td>\n",
       "      <td>0</td>\n",
       "      <td>0.2</td>\n",
       "      <td>9</td>\n",
       "      <td>17.6</td>\n",
       "      <td>0.2</td>\n",
       "      <td>0.2</td>\n",
       "      <td>NaN</td>\n",
       "    </tr>\n",
       "    <tr>\n",
       "      <th>188</th>\n",
       "      <td>188</td>\n",
       "      <td>Kuwait</td>\n",
       "      <td>0.1</td>\n",
       "      <td>0</td>\n",
       "      <td>0.1</td>\n",
       "      <td>58.1</td>\n",
       "      <td>10.8</td>\n",
       "      <td>30.7</td>\n",
       "      <td>0.4</td>\n",
       "      <td>0.1</td>\n",
       "    </tr>\n",
       "    <tr>\n",
       "      <th>189</th>\n",
       "      <td>189</td>\n",
       "      <td>Libya</td>\n",
       "      <td>0.1</td>\n",
       "      <td>0</td>\n",
       "      <td>0.1</td>\n",
       "      <td>2.5</td>\n",
       "      <td>5</td>\n",
       "      <td>0</td>\n",
       "      <td>0</td>\n",
       "      <td>NaN</td>\n",
       "    </tr>\n",
       "    <tr>\n",
       "      <th>190</th>\n",
       "      <td>190</td>\n",
       "      <td>Mauritania</td>\n",
       "      <td>0.1</td>\n",
       "      <td>0</td>\n",
       "      <td>0.1</td>\n",
       "      <td>NaN</td>\n",
       "      <td>NaN</td>\n",
       "      <td>NaN</td>\n",
       "      <td>NaN</td>\n",
       "      <td>0.1</td>\n",
       "    </tr>\n",
       "    <tr>\n",
       "      <th>191</th>\n",
       "      <td>191</td>\n",
       "      <td>Pakistan</td>\n",
       "      <td>0.1</td>\n",
       "      <td>0</td>\n",
       "      <td>0</td>\n",
       "      <td>1.2</td>\n",
       "      <td>3</td>\n",
       "      <td>0.1</td>\n",
       "      <td>0.1</td>\n",
       "      <td>NaN</td>\n",
       "    </tr>\n",
       "  </tbody>\n",
       "</table>\n",
       "<p>192 rows × 10 columns</p>\n",
       "</div>"
      ],
      "text/plain": [
       "        0               1      2                     3  \\\n",
       "0    Rank         Country  Total  Recorded consumption   \n",
       "1       1         Belarus   17.5                  14.4   \n",
       "2       2         Moldova   16.8                   6.3   \n",
       "3       3       Lithuania   15.4                  12.9   \n",
       "4       4          Russia   15.1                  11.5   \n",
       "5       5         Romania   14.4                  10.4   \n",
       "6       6         Ukraine   13.9                   8.9   \n",
       "7       7         Andorra   13.8                  12.4   \n",
       "8       8         Hungary   13.3                  11.3   \n",
       "9       9  Czech Republic     13                  11.8   \n",
       "10     10        Slovakia     13                  11.4   \n",
       "11     11        Portugal   12.9                    11   \n",
       "12     12          Serbia   12.6                   9.6   \n",
       "13     13         Grenada   12.5                  11.9   \n",
       "14     14          Poland   12.5                  10.9   \n",
       "15     15          Latvia   12.3                  10.5   \n",
       "16     16         Finland   12.3                    10   \n",
       "17     17     South Korea   12.3                   9.8   \n",
       "18     18          France   12.2                  11.8   \n",
       "19     19       Australia   12.2                  10.4   \n",
       "20     20         Croatia   12.2                  10.2   \n",
       "21     21         Ireland   11.9                  11.4   \n",
       "22     22      Luxembourg   11.9                  11.4   \n",
       "23     23         Germany   11.8                  11.3   \n",
       "24     24        Slovenia   11.6                  10.6   \n",
       "25     25  United Kingdom   11.6                  10.4   \n",
       "26     26         Denmark   11.4                  10.4   \n",
       "27     27        Bulgaria   11.4                  10.3   \n",
       "28     28           Spain   11.2                    10   \n",
       "29     29         Belgium     11                  10.5   \n",
       "..    ...             ...    ...                   ...   \n",
       "162   162        Malaysia    1.3                   0.3   \n",
       "163   163           Syria    1.2                     1   \n",
       "164   164        Maldives    1.2                   0.7   \n",
       "165   165            Mali    1.1                   0.6   \n",
       "166   166         Eritrea    1.1                   0.5   \n",
       "167   167         Algeria      1                   0.7   \n",
       "168   168            Iran      1                     0   \n",
       "169   169            Oman    0.9                   0.7   \n",
       "170   170          Brunei    0.9                   0.6   \n",
       "171   171         Morocco    0.9                   0.5   \n",
       "172   172          Jordan    0.7                   0.5   \n",
       "173   173          Bhutan    0.7                   0.4   \n",
       "174   174          Guinea    0.7                   0.2   \n",
       "175   175         Myanmar    0.7                   0.1   \n",
       "176   176     Afghanistan    0.7                     0   \n",
       "177   177         Senegal    0.6                   0.3   \n",
       "178   178       Indonesia    0.6                   0.1   \n",
       "179   179     Timor-Leste    0.6                   0.1   \n",
       "180   180            Iraq    0.5                   0.2   \n",
       "181   181         Somalia    0.5                     0   \n",
       "182   182           Egypt    0.4                   0.2   \n",
       "183   183           Niger    0.3                   0.1   \n",
       "184   184           Yemen    0.3                   0.1   \n",
       "185   185         Comoros    0.2                   0.1   \n",
       "186   186    Saudi Arabia    0.2                   0.1   \n",
       "187   187      Bangladesh    0.2                     0   \n",
       "188   188          Kuwait    0.1                     0   \n",
       "189   189           Libya    0.1                     0   \n",
       "190   190      Mauritania    0.1                     0   \n",
       "191   191        Pakistan    0.1                     0   \n",
       "\n",
       "                          4         5         6            7          8  \\\n",
       "0    Unrecorded consumption  Beer (%)  Wine (%)  Spirits (%)  Other (%)   \n",
       "1                       3.2      17.3       5.2         46.6       30.9   \n",
       "2                      10.5      30.4       5.1         64.5          0   \n",
       "3                       2.5      46.5       7.8         34.1       11.6   \n",
       "4                       3.6      37.6      11.4           51          0   \n",
       "5                         4        50      28.9         21.1          0   \n",
       "6                         5      40.5         9           48        2.6   \n",
       "7                       1.4      34.6      45.3         20.1          0   \n",
       "8                         2      36.3      29.4         34.3          0   \n",
       "9                       1.2      53.5      20.5           26          0   \n",
       "10                      1.7      30.1      18.3         46.2        5.5   \n",
       "11                      1.9      30.8      55.5         10.9        2.8   \n",
       "12                      2.9      51.5      23.9         24.6          0   \n",
       "13                      0.7      29.3       4.3         66.2        0.2   \n",
       "14                      1.6      55.1       9.3         35.5          0   \n",
       "15                      1.8      46.9      10.7           37        5.4   \n",
       "16                      2.3        46      17.5           24       12.6   \n",
       "17                      2.5        25       1.6          2.9       70.5   \n",
       "18                      0.4      18.8      56.4         23.1        1.7   \n",
       "19                      1.8        44      36.7         12.5        6.8   \n",
       "20                        2      39.5      44.8         15.4        0.2   \n",
       "21                      0.5      48.1      26.1         18.7        7.7   \n",
       "22                      0.5      36.2      42.8           21          0   \n",
       "23                      0.5      53.6      27.8         18.6          0   \n",
       "24                        1      44.5      46.9          8.6          0   \n",
       "25                      1.2      36.9      33.8         21.8        7.5   \n",
       "26                        1      37.7      48.2         14.1          0   \n",
       "27                      1.1      39.3      16.5         44.1        0.1   \n",
       "28                      1.2      49.7      20.1         28.2        1.8   \n",
       "29                      0.5      49.2      36.3         14.4        0.1   \n",
       "..                      ...       ...       ...          ...        ...   \n",
       "162                       1      76.2         2         21.8        0.1   \n",
       "163                     0.3       8.5      27.9         63.5          0   \n",
       "164                     0.5      29.1      29.4         41.2          0   \n",
       "165                     0.5      13.3       1.5          2.1       83.1   \n",
       "166                     0.6      63.6         0          0.1       36.3   \n",
       "167                     0.3      62.6      35.5            0          2   \n",
       "168                       1      24.8      52.1            1          1   \n",
       "169                     0.2      54.6       3.3         42.2          0   \n",
       "170                     0.3      89.8       2.3          7.2        0.7   \n",
       "171                     0.5      43.5      36.5         19.9          0   \n",
       "172                     0.2      22.4       2.1         75.4        0.1   \n",
       "173                     0.3       100         0            0          0   \n",
       "174                     0.5      78.9      16.3          3.7        1.1   \n",
       "175                     0.6      82.6       5.7         11.8          0   \n",
       "176                     0.7      18.9      38.3            1        1.2   \n",
       "177                     0.3      55.1      41.3          3.6          0   \n",
       "178                     0.5      84.5       0.1         15.3          0   \n",
       "179                     0.5       9.3      75.9         14.8          0   \n",
       "180                     0.3      76.1         1         22.9          0   \n",
       "181                     0.5       9.2      19.2          0.5        0.5   \n",
       "182                     0.2      53.8       5.4         40.3        0.5   \n",
       "183                     0.2        46      13.2         40.7          0   \n",
       "184                     0.2       100         0            0          0   \n",
       "185                     0.1      23.3      22.2         54.6          0   \n",
       "186                     0.1         0       1.9         97.9        0.2   \n",
       "187                     0.2         9      17.6          0.2        0.2   \n",
       "188                     0.1      58.1      10.8         30.7        0.4   \n",
       "189                     0.1       2.5         5            0          0   \n",
       "190                     0.1       NaN       NaN          NaN        NaN   \n",
       "191                       0       1.2         3          0.1        0.1   \n",
       "\n",
       "                   9  \n",
       "0    2015 projection  \n",
       "1               17.1  \n",
       "2               17.4  \n",
       "3               16.2  \n",
       "4               14.5  \n",
       "5               12.9  \n",
       "6               11.8  \n",
       "7                9.1  \n",
       "8               12.4  \n",
       "9               14.1  \n",
       "10              12.5  \n",
       "11              12.5  \n",
       "12              12.9  \n",
       "13              10.4  \n",
       "14              11.5  \n",
       "15              10.6  \n",
       "16              11.9  \n",
       "17              10.9  \n",
       "18              11.6  \n",
       "19              12.6  \n",
       "20              11.7  \n",
       "21              10.9  \n",
       "22              11.2  \n",
       "23              10.6  \n",
       "24              10.9  \n",
       "25                12  \n",
       "26              10.2  \n",
       "27              11.3  \n",
       "28              10.6  \n",
       "29              10.8  \n",
       "..               ...  \n",
       "162              1.7  \n",
       "163              1.4  \n",
       "164                1  \n",
       "165                1  \n",
       "166              1.4  \n",
       "167              0.6  \n",
       "168              NaN  \n",
       "169              0.9  \n",
       "170              0.8  \n",
       "171              0.7  \n",
       "172              0.7  \n",
       "173              1.1  \n",
       "174              0.7  \n",
       "175              0.7  \n",
       "176              NaN  \n",
       "177              0.5  \n",
       "178              0.6  \n",
       "179              1.2  \n",
       "180              0.5  \n",
       "181              NaN  \n",
       "182              0.3  \n",
       "183              0.3  \n",
       "184              0.2  \n",
       "185              0.2  \n",
       "186              0.2  \n",
       "187              NaN  \n",
       "188              0.1  \n",
       "189              NaN  \n",
       "190              0.1  \n",
       "191              NaN  \n",
       "\n",
       "[192 rows x 10 columns]"
      ]
     },
     "execution_count": 83,
     "metadata": {},
     "output_type": "execute_result"
    }
   ],
   "source": [
    "list_of_countries[0]"
   ]
  },
  {
   "cell_type": "code",
   "execution_count": 86,
   "metadata": {},
   "outputs": [
    {
     "data": {
      "text/plain": [
       "('magic', 'world')"
      ]
     },
     "execution_count": 86,
     "metadata": {},
     "output_type": "execute_result"
    }
   ],
   "source": [
    "words = 'I only want magic from this world'.split()\n",
    "indexes = 3, 6\n",
    "from operator import itemgetter\n",
    "itemgetter(*indexes)(words)"
   ]
  },
  {
   "cell_type": "code",
   "execution_count": 87,
   "metadata": {
    "collapsed": true
   },
   "outputs": [],
   "source": [
    "import os"
   ]
  },
  {
   "cell_type": "code",
   "execution_count": 92,
   "metadata": {},
   "outputs": [
    {
     "data": {
      "text/plain": [
       "'.'"
      ]
     },
     "execution_count": 92,
     "metadata": {},
     "output_type": "execute_result"
    }
   ],
   "source": [
    "os.curdir"
   ]
  },
  {
   "cell_type": "code",
   "execution_count": 93,
   "metadata": {},
   "outputs": [
    {
     "data": {
      "text/plain": [
       "'.'"
      ]
     },
     "execution_count": 93,
     "metadata": {},
     "output_type": "execute_result"
    }
   ],
   "source": [
    "os.path.curdir"
   ]
  },
  {
   "cell_type": "code",
   "execution_count": 95,
   "metadata": {},
   "outputs": [
    {
     "data": {
      "text/plain": [
       "'/Users/mona/computer_vision/Ex_Files_Intro_Analysis_Python/Exercise Files/Ch2/02_02'"
      ]
     },
     "execution_count": 95,
     "metadata": {},
     "output_type": "execute_result"
    }
   ],
   "source": [
    "os.getcwd()"
   ]
  },
  {
   "cell_type": "code",
   "execution_count": 97,
   "metadata": {},
   "outputs": [
    {
     "data": {
      "text/plain": [
       "['/Users/mona/anaconda/bin',\n",
       " '/Users/mona/anaconda/bin',\n",
       " '//anaconda/bin',\n",
       " '/Library/...',\n",
       " '/usr/local/bin',\n",
       " '/usr/local/sbin',\n",
       " '/Users/mona/anaconda/bin',\n",
       " '/Library/Frameworks/Python.framework/Versions/3.4/bin',\n",
       " '/Users/mona/.rvm/gems/ruby-2.0.0-p353/bin',\n",
       " '/Users/mona/.rvm/gems/ruby-2.0.0-p353@global/bin',\n",
       " '/Users/mona/.rvm/rubies/ruby-2.0.0-p353/bin',\n",
       " '/Users/mona/.rvm/bin',\n",
       " '/Library/...',\n",
       " '/opt/local/bin',\n",
       " '/opt/local/sbin',\n",
       " '/opt/local/bin',\n",
       " '/opt/local/sbin',\n",
       " '/usr/local/bin',\n",
       " '/usr/bin',\n",
       " '/bin',\n",
       " '/usr/sbin',\n",
       " '/sbin',\n",
       " '/opt/X11/bin',\n",
       " '/usr/local/git/bin',\n",
       " '/usr/local/go/bin',\n",
       " '/usr/texbin',\n",
       " '/usr/local/go/bin']"
      ]
     },
     "execution_count": 97,
     "metadata": {},
     "output_type": "execute_result"
    }
   ],
   "source": [
    "os.get_exec_path()"
   ]
  },
  {
   "cell_type": "code",
   "execution_count": 99,
   "metadata": {},
   "outputs": [
    {
     "data": {
      "text/plain": [
       "'/Users/mona/computer_vision/Ex_Files_Intro_Analysis_Python/Exercise Files/Ch2/02_02/words'"
      ]
     },
     "execution_count": 99,
     "metadata": {},
     "output_type": "execute_result"
    }
   ],
   "source": [
    "os.path.abspath('/Users/mona/computer_vision/Ex_Files_Intro_Analysis_Python/Exercise Files/Ch2/02_02/words')"
   ]
  },
  {
   "cell_type": "code",
   "execution_count": 100,
   "metadata": {},
   "outputs": [
    {
     "data": {
      "text/plain": [
       "'/Users/mona/computer_vision/Ex_Files_Intro_Analysis_Python/Exercise Files/Ch2/02_02'"
      ]
     },
     "execution_count": 100,
     "metadata": {},
     "output_type": "execute_result"
    }
   ],
   "source": [
    "os.path.abspath('.')"
   ]
  },
  {
   "cell_type": "code",
   "execution_count": 101,
   "metadata": {},
   "outputs": [
    {
     "data": {
      "text/plain": [
       "'/Users/mona/computer_vision/Ex_Files_Intro_Analysis_Python/Exercise Files/Ch2/02_02/words'"
      ]
     },
     "execution_count": 101,
     "metadata": {},
     "output_type": "execute_result"
    }
   ],
   "source": [
    "os.path.abspath('words')"
   ]
  },
  {
   "cell_type": "code",
   "execution_count": 102,
   "metadata": {},
   "outputs": [
    {
     "data": {
      "text/plain": [
       "'/Users/mona/computer_vision/Ex_Files_Intro_Analysis_Python/Exercise Files/Ch2'"
      ]
     },
     "execution_count": 102,
     "metadata": {},
     "output_type": "execute_result"
    }
   ],
   "source": [
    "os.path.abspath('..')"
   ]
  },
  {
   "cell_type": "code",
   "execution_count": 103,
   "metadata": {},
   "outputs": [
    {
     "data": {
      "text/plain": [
       "'words'"
      ]
     },
     "execution_count": 103,
     "metadata": {},
     "output_type": "execute_result"
    }
   ],
   "source": [
    "os.path.basename('/Users/mona/computer_vision/Ex_Files_Intro_Analysis_Python/Exercise Files/Ch2/02_02/words')"
   ]
  },
  {
   "cell_type": "code",
   "execution_count": 104,
   "metadata": {},
   "outputs": [
    {
     "data": {
      "text/plain": [
       "'/Users/mona/computer_vision/Ex_Files_Intro_Analysis_Python/Exercise Files/Ch2'"
      ]
     },
     "execution_count": 104,
     "metadata": {},
     "output_type": "execute_result"
    }
   ],
   "source": [
    "os.path.dirname('/Users/mona/computer_vision/Ex_Files_Intro_Analysis_Python/Exercise Files/Ch2/02_02')"
   ]
  },
  {
   "cell_type": "code",
   "execution_count": 108,
   "metadata": {},
   "outputs": [
    {
     "data": {
      "text/plain": [
       "'/Users'"
      ]
     },
     "execution_count": 108,
     "metadata": {},
     "output_type": "execute_result"
    }
   ],
   "source": [
    "os.path.dirname('/Users/mona')"
   ]
  },
  {
   "cell_type": "code",
   "execution_count": 109,
   "metadata": {},
   "outputs": [
    {
     "data": {
      "text/plain": [
       "True"
      ]
     },
     "execution_count": 109,
     "metadata": {},
     "output_type": "execute_result"
    }
   ],
   "source": [
    "os.path.exists('/Users/mona')"
   ]
  },
  {
   "cell_type": "code",
   "execution_count": 110,
   "metadata": {},
   "outputs": [
    {
     "data": {
      "text/plain": [
       "True"
      ]
     },
     "execution_count": 110,
     "metadata": {},
     "output_type": "execute_result"
    }
   ],
   "source": [
    "os.path.isdir('/Users/mona')"
   ]
  },
  {
   "cell_type": "code",
   "execution_count": 111,
   "metadata": {},
   "outputs": [
    {
     "data": {
      "text/plain": [
       "True"
      ]
     },
     "execution_count": 111,
     "metadata": {},
     "output_type": "execute_result"
    }
   ],
   "source": [
    "os.path.isfile('words')"
   ]
  },
  {
   "cell_type": "code",
   "execution_count": 112,
   "metadata": {},
   "outputs": [
    {
     "data": {
      "text/plain": [
       "False"
      ]
     },
     "execution_count": 112,
     "metadata": {},
     "output_type": "execute_result"
    }
   ],
   "source": [
    "os.path.isdir('words')"
   ]
  },
  {
   "cell_type": "code",
   "execution_count": 113,
   "metadata": {},
   "outputs": [
    {
     "data": {
      "text/plain": [
       "1443739374.0"
      ]
     },
     "execution_count": 113,
     "metadata": {},
     "output_type": "execute_result"
    }
   ],
   "source": [
    "os.path.getmtime('words')"
   ]
  },
  {
   "cell_type": "code",
   "execution_count": 114,
   "metadata": {},
   "outputs": [
    {
     "data": {
      "text/plain": [
       "1497511215.0"
      ]
     },
     "execution_count": 114,
     "metadata": {},
     "output_type": "execute_result"
    }
   ],
   "source": [
    "os.path.getctime('basics.ipynb')"
   ]
  },
  {
   "cell_type": "code",
   "execution_count": 115,
   "metadata": {},
   "outputs": [
    {
     "data": {
      "text/plain": [
       "1497511215.0"
      ]
     },
     "execution_count": 115,
     "metadata": {},
     "output_type": "execute_result"
    }
   ],
   "source": [
    "os.path.getmtime('basics.ipynb')"
   ]
  },
  {
   "cell_type": "code",
   "execution_count": 116,
   "metadata": {},
   "outputs": [
    {
     "data": {
      "text/plain": [
       "'/Users/mona/computer_vision/Ex_Files_Intro_Analysis_Python/Exercise Files/Ch2/02_02/words'"
      ]
     },
     "execution_count": 116,
     "metadata": {},
     "output_type": "execute_result"
    }
   ],
   "source": [
    "os.path.join('/Users/mona/computer_vision/Ex_Files_Intro_Analysis_Python/Exercise Files/Ch2/02_02', 'words')"
   ]
  },
  {
   "cell_type": "code",
   "execution_count": 117,
   "metadata": {},
   "outputs": [
    {
     "data": {
      "text/plain": [
       "('/Users/mona/computer_vision/Ex_Files_Intro_Analysis_Python/Exercise Files/Ch2',\n",
       " '02_02')"
      ]
     },
     "execution_count": 117,
     "metadata": {},
     "output_type": "execute_result"
    }
   ],
   "source": [
    "os.path.split('/Users/mona/computer_vision/Ex_Files_Intro_Analysis_Python/Exercise Files/Ch2/02_02')"
   ]
  },
  {
   "cell_type": "code",
   "execution_count": 118,
   "metadata": {},
   "outputs": [
    {
     "data": {
      "text/plain": [
       "('/Users/mona/computer_vision/Ex_Files_Intro_Analysis_Python/Exercise Files/Ch2/02_02',\n",
       " 'words')"
      ]
     },
     "execution_count": 118,
     "metadata": {},
     "output_type": "execute_result"
    }
   ],
   "source": [
    "os.path.split('/Users/mona/computer_vision/Ex_Files_Intro_Analysis_Python/Exercise Files/Ch2/02_02/words')"
   ]
  },
  {
   "cell_type": "code",
   "execution_count": 120,
   "metadata": {},
   "outputs": [],
   "source": [
    "os.mkdir('test')"
   ]
  },
  {
   "cell_type": "code",
   "execution_count": 121,
   "metadata": {
    "collapsed": true
   },
   "outputs": [],
   "source": [
    "os.rmdir('test')"
   ]
  },
  {
   "cell_type": "code",
   "execution_count": 124,
   "metadata": {},
   "outputs": [
    {
     "data": {
      "text/plain": [
       "True"
      ]
     },
     "execution_count": 124,
     "metadata": {},
     "output_type": "execute_result"
    }
   ],
   "source": [
    "os.path.exists('test.txt')"
   ]
  },
  {
   "cell_type": "code",
   "execution_count": 125,
   "metadata": {
    "collapsed": true
   },
   "outputs": [],
   "source": [
    "os.remove('test.txt')"
   ]
  },
  {
   "cell_type": "code",
   "execution_count": 126,
   "metadata": {},
   "outputs": [
    {
     "data": {
      "text/plain": [
       "False"
      ]
     },
     "execution_count": 126,
     "metadata": {},
     "output_type": "execute_result"
    }
   ],
   "source": [
    "os.path.exists('test.txt')"
   ]
  },
  {
   "cell_type": "code",
   "execution_count": 131,
   "metadata": {},
   "outputs": [],
   "source": [
    "import folium"
   ]
  },
  {
   "cell_type": "code",
   "execution_count": 135,
   "metadata": {
    "collapsed": true
   },
   "outputs": [],
   "source": [
    "map_osm = folium.Map(location=[\t37.87554, -122.25980])\n",
    "map_osm.save('osm.html')"
   ]
  },
  {
   "cell_type": "code",
   "execution_count": 136,
   "metadata": {},
   "outputs": [
    {
     "data": {
      "text/html": [
       "<div style=\"width:100%;\"><div style=\"position:relative;width:100%;height:0;padding-bottom:60%;\"><iframe src=\"data:text/html;charset=utf-8;base64,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\" style=\"position:absolute;width:100%;height:100%;left:0;top:0;border:none !important;\" allowfullscreen webkitallowfullscreen mozallowfullscreen></iframe></div></div>"
      ],
      "text/plain": [
       "<folium.folium.Map at 0x110842978>"
      ]
     },
     "execution_count": 136,
     "metadata": {},
     "output_type": "execute_result"
    }
   ],
   "source": [
    "map_osm"
   ]
  },
  {
   "cell_type": "code",
   "execution_count": null,
   "metadata": {
    "collapsed": true
   },
   "outputs": [],
   "source": []
  }
 ],
 "metadata": {
  "kernelspec": {
   "display_name": "Python 3",
   "language": "python",
   "name": "python3"
  },
  "language_info": {
   "codemirror_mode": {
    "name": "ipython",
    "version": 3
   },
   "file_extension": ".py",
   "mimetype": "text/x-python",
   "name": "python",
   "nbconvert_exporter": "python",
   "pygments_lexer": "ipython3",
   "version": "3.6.1"
  }
 },
 "nbformat": 4,
 "nbformat_minor": 1
}
